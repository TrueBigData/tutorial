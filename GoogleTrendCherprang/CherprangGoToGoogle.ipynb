{
 "cells": [
  {
   "cell_type": "markdown",
   "metadata": {},
   "source": [
    "Import Library and call Google Trend in Thailand"
   ]
  },
  {
   "cell_type": "code",
   "execution_count": 1,
   "metadata": {
    "collapsed": true
   },
   "outputs": [],
   "source": [
    "%matplotlib inline\n",
    "from pytrends import *\n",
    "from pytrends.request import TrendReq\n",
    "import matplotlib.pyplot as plt\n",
    "import pandas as pd"
   ]
  },
  {
   "cell_type": "code",
   "execution_count": 2,
   "metadata": {},
   "outputs": [],
   "source": [
    "pytrends = TrendReq(hl='en-TH')"
   ]
  },
  {
   "cell_type": "markdown",
   "metadata": {},
   "source": [
    "## Google Trend over time\n",
    "ดู Trend การ Search คำว่า เฌอปรางย้อนหลังถึงปี 2013 ซึ่งการใส่ Keyword ในการ Search นั้นต้องใส่ว่า \"เฌอ ปราง\"\n",
    "เนื่องจากคำว่าเฌอปราง\n",
    "- เฌอ = ต้นไม้\n",
    "- ปราง = มะปราง \n",
    "\n",
    "เมื่อนำสองคำมารวมกันแล้วแปลความหมายจะได้ว่าคือ ต้นมะปราง ซึ่งไม่เกิดความหมายใหม่ ดังนั้นจึงเป็นคำมูล ทำให้เมื่อเราดึงข้อมูล Google จะตัดคำว่า เฌอปราง แยกเป็นสองคำคือ เฌอ กับ ปราง ซึ่งหลายคนจะคิดว่าเฌอปรางเป็นคำประสมเนื่องจากในตอนหนึ่งของลิลิตตะเลงพ่ายกล่าวไว้ว่า\n",
    "\n",
    "\"เฌอปรางเปรียบนาฏน้อง นวลปราง\n",
    "\n",
    "รักดั่งรักนุชพาง พี่ม้วย\n",
    "\n",
    "ช้องนางเฉกช้องนาง คลายคลี่ ลงฤๅ\n",
    "\n",
    "โศกพี่โศกสมด้วย ดั่งไม้นามมี\"\n",
    "\n",
    "ซึ่งบทกลอนด้านบนเป็นบทอุปมาว่าแก้มสาวเหมือนมะปราง ทางแก้คือเราอาจต้องทำ Name Entity Recognition ว่าคำว่าเฌอปรางที่กล่าวถึงคือต้นมะปรางหรือคนที่ชื่อเฌอปรางกันแน่"
   ]
  },
  {
   "cell_type": "code",
   "execution_count": 3,
   "metadata": {},
   "outputs": [],
   "source": [
    "kw_list = [\"เฌอ ปราง\"]\n",
    "pytrends.build_payload(kw_list)"
   ]
  },
  {
   "cell_type": "markdown",
   "metadata": {},
   "source": [
    "ใน interest_over_time_df จะมี 2 Columns คือ Google Trend และการบอกว่าข้อมูลวันนั้นเป็นของบางส่วนหรือเปล่า"
   ]
  },
  {
   "cell_type": "code",
   "execution_count": 4,
   "metadata": {
    "scrolled": true
   },
   "outputs": [
    {
     "data": {
      "text/html": [
       "<div>\n",
       "<style>\n",
       "    .dataframe thead tr:only-child th {\n",
       "        text-align: right;\n",
       "    }\n",
       "\n",
       "    .dataframe thead th {\n",
       "        text-align: left;\n",
       "    }\n",
       "\n",
       "    .dataframe tbody tr th {\n",
       "        vertical-align: top;\n",
       "    }\n",
       "</style>\n",
       "<table border=\"1\" class=\"dataframe\">\n",
       "  <thead>\n",
       "    <tr style=\"text-align: right;\">\n",
       "      <th></th>\n",
       "      <th>เฌอ ปราง</th>\n",
       "      <th>isPartial</th>\n",
       "    </tr>\n",
       "    <tr>\n",
       "      <th>date</th>\n",
       "      <th></th>\n",
       "      <th></th>\n",
       "    </tr>\n",
       "  </thead>\n",
       "  <tbody>\n",
       "    <tr>\n",
       "      <th>2013-03-17</th>\n",
       "      <td>0</td>\n",
       "      <td>False</td>\n",
       "    </tr>\n",
       "    <tr>\n",
       "      <th>2013-03-24</th>\n",
       "      <td>0</td>\n",
       "      <td>False</td>\n",
       "    </tr>\n",
       "    <tr>\n",
       "      <th>2013-03-31</th>\n",
       "      <td>0</td>\n",
       "      <td>False</td>\n",
       "    </tr>\n",
       "    <tr>\n",
       "      <th>2013-04-07</th>\n",
       "      <td>0</td>\n",
       "      <td>False</td>\n",
       "    </tr>\n",
       "    <tr>\n",
       "      <th>2013-04-14</th>\n",
       "      <td>0</td>\n",
       "      <td>False</td>\n",
       "    </tr>\n",
       "  </tbody>\n",
       "</table>\n",
       "</div>"
      ],
      "text/plain": [
       "            เฌอ ปราง isPartial\n",
       "date                          \n",
       "2013-03-17         0     False\n",
       "2013-03-24         0     False\n",
       "2013-03-31         0     False\n",
       "2013-04-07         0     False\n",
       "2013-04-14         0     False"
      ]
     },
     "execution_count": 4,
     "metadata": {},
     "output_type": "execute_result"
    }
   ],
   "source": [
    "interest_over_time_df = pytrends.interest_over_time()\n",
    "interest_over_time_df.head(5)"
   ]
  },
  {
   "cell_type": "markdown",
   "metadata": {},
   "source": [
    "เปลี่ยนชื่อ Column จาก เฌอ ปราง เป็น Cherprang"
   ]
  },
  {
   "cell_type": "code",
   "execution_count": 5,
   "metadata": {},
   "outputs": [],
   "source": [
    "interest_over_time_df.columns = ['Cherprang','isPartial']"
   ]
  },
  {
   "cell_type": "markdown",
   "metadata": {},
   "source": [
    "ทำการลบ Column ที่เป็น 0 ทิ้ง หลังจากนั้นถึงทำการ Plot Graph ของ Trend"
   ]
  },
  {
   "cell_type": "code",
   "execution_count": 6,
   "metadata": {
    "scrolled": true
   },
   "outputs": [
    {
     "data": {
      "text/plain": [
       "<matplotlib.axes._subplots.AxesSubplot at 0x11900afd0>"
      ]
     },
     "execution_count": 6,
     "metadata": {},
     "output_type": "execute_result"
    },
    {
     "data": {
      "image/png": "[encoded data removed]",
      "text/plain": [
       "<matplotlib.figure.Figure at 0x11872b550>"
      ]
     },
     "metadata": {},
     "output_type": "display_data"
    }
   ],
   "source": [
    "interest = interest_over_time_df[interest_over_time_df[\"Cherprang\"] != 0]\n",
    "interest[\"Cherprang\"].plot()"
   ]
  },
  {
   "cell_type": "markdown",
   "metadata": {},
   "source": [
    "## Related Topics \n",
    "ในขั้นตอนนี้เราจะดึง Related Topics ที่เกี่ยวกับเฌอปรางออกมา"
   ]
  },
  {
   "cell_type": "code",
   "execution_count": 7,
   "metadata": {
    "scrolled": false
   },
   "outputs": [
    {
     "name": "stdout",
     "output_type": "stream",
     "text": [
      "             mid                   title  \\\n",
      "0  /g/11cmcd2s26       บีเอ็นเคโฟร์ตีเอต   \n",
      "1      /m/0f2jzn              พันทิป.คอม   \n",
      "2       /m/0d5nn         คุกกี้เสี่ยงทาย   \n",
      "3       /m/021mn                  คุกกี้   \n",
      "4      /m/0k_jr_         เอเคบีโฟร์ตีเอต   \n",
      "5     /m/05f7dx6             สถานีอารีย์   \n",
      "6      /m/014ht3                คอสเพลย์   \n",
      "7      /m/02yx0x                  กัปตัน   \n",
      "8       /m/05_8m                  ไข่มุก   \n",
      "9     /m/0w07jqs  ลัลณ์ลลิน เตจะสา เวศซ์   \n",
      "\n",
      "                                       type  value  \n",
      "0                                กลุ่มดนตรี     39  \n",
      "1                                  เว็บไซต์      4  \n",
      "2                                    คุกกี้      2  \n",
      "3                                      เค้ก      2  \n",
      "4                                กลุ่มดนตรี      2  \n",
      "5  บริการการขนส่งในกรุงเทพมหานคร, ประเทศไทย      2  \n",
      "6                                    หัวข้อ      1  \n",
      "7                                    ฟุตบอล      1  \n",
      "8                                    อัญมณี      1  \n",
      "9                                   นักแสดง      0  \n"
     ]
    }
   ],
   "source": [
    "related_topics = pytrends.related_topics()[\"เฌอ ปราง\"]\n",
    "print(related_topics)\n",
    "del related_topics[\"mid\"]"
   ]
  },
  {
   "cell_type": "code",
   "execution_count": 8,
   "metadata": {
    "scrolled": false
   },
   "outputs": [
    {
     "data": {
      "text/html": [
       "<div>\n",
       "<style>\n",
       "    .dataframe thead tr:only-child th {\n",
       "        text-align: right;\n",
       "    }\n",
       "\n",
       "    .dataframe thead th {\n",
       "        text-align: left;\n",
       "    }\n",
       "\n",
       "    .dataframe tbody tr th {\n",
       "        vertical-align: top;\n",
       "    }\n",
       "</style>\n",
       "<table border=\"1\" class=\"dataframe\">\n",
       "  <thead>\n",
       "    <tr style=\"text-align: right;\">\n",
       "      <th></th>\n",
       "      <th>title</th>\n",
       "      <th>type</th>\n",
       "      <th>value</th>\n",
       "    </tr>\n",
       "  </thead>\n",
       "  <tbody>\n",
       "    <tr>\n",
       "      <th>0</th>\n",
       "      <td>บีเอ็นเคโฟร์ตีเอต</td>\n",
       "      <td>กลุ่มดนตรี</td>\n",
       "      <td>39</td>\n",
       "    </tr>\n",
       "    <tr>\n",
       "      <th>1</th>\n",
       "      <td>พันทิป.คอม</td>\n",
       "      <td>เว็บไซต์</td>\n",
       "      <td>4</td>\n",
       "    </tr>\n",
       "    <tr>\n",
       "      <th>2</th>\n",
       "      <td>คุกกี้เสี่ยงทาย</td>\n",
       "      <td>คุกกี้</td>\n",
       "      <td>2</td>\n",
       "    </tr>\n",
       "    <tr>\n",
       "      <th>3</th>\n",
       "      <td>คุกกี้</td>\n",
       "      <td>เค้ก</td>\n",
       "      <td>2</td>\n",
       "    </tr>\n",
       "    <tr>\n",
       "      <th>4</th>\n",
       "      <td>เอเคบีโฟร์ตีเอต</td>\n",
       "      <td>กลุ่มดนตรี</td>\n",
       "      <td>2</td>\n",
       "    </tr>\n",
       "    <tr>\n",
       "      <th>5</th>\n",
       "      <td>สถานีอารีย์</td>\n",
       "      <td>บริการการขนส่งในกรุงเทพมหานคร, ประเทศไทย</td>\n",
       "      <td>2</td>\n",
       "    </tr>\n",
       "    <tr>\n",
       "      <th>6</th>\n",
       "      <td>คอสเพลย์</td>\n",
       "      <td>หัวข้อ</td>\n",
       "      <td>1</td>\n",
       "    </tr>\n",
       "    <tr>\n",
       "      <th>7</th>\n",
       "      <td>กัปตัน</td>\n",
       "      <td>ฟุตบอล</td>\n",
       "      <td>1</td>\n",
       "    </tr>\n",
       "    <tr>\n",
       "      <th>8</th>\n",
       "      <td>ไข่มุก</td>\n",
       "      <td>อัญมณี</td>\n",
       "      <td>1</td>\n",
       "    </tr>\n",
       "    <tr>\n",
       "      <th>9</th>\n",
       "      <td>ลัลณ์ลลิน เตจะสา เวศซ์</td>\n",
       "      <td>นักแสดง</td>\n",
       "      <td>0</td>\n",
       "    </tr>\n",
       "  </tbody>\n",
       "</table>\n",
       "</div>"
      ],
      "text/plain": [
       "                    title                                      type  value\n",
       "0       บีเอ็นเคโฟร์ตีเอต                                กลุ่มดนตรี     39\n",
       "1              พันทิป.คอม                                  เว็บไซต์      4\n",
       "2         คุกกี้เสี่ยงทาย                                    คุกกี้      2\n",
       "3                  คุกกี้                                      เค้ก      2\n",
       "4         เอเคบีโฟร์ตีเอต                                กลุ่มดนตรี      2\n",
       "5             สถานีอารีย์  บริการการขนส่งในกรุงเทพมหานคร, ประเทศไทย      2\n",
       "6                คอสเพลย์                                    หัวข้อ      1\n",
       "7                  กัปตัน                                    ฟุตบอล      1\n",
       "8                  ไข่มุก                                    อัญมณี      1\n",
       "9  ลัลณ์ลลิน เตจะสา เวศซ์                                   นักแสดง      0"
      ]
     },
     "execution_count": 8,
     "metadata": {},
     "output_type": "execute_result"
    }
   ],
   "source": [
    "related_topics"
   ]
  },
  {
   "cell_type": "markdown",
   "metadata": {},
   "source": [
    "เมื่อเราดูข้อที่ 0-4 จะพบว่ามีความสมเหตุสมผลอยู่ครับ แต่ในข้อ 5-9 นี้ขออธิบายรายข้อครับ\n",
    "5. BTS อารีย์ คาดว่ามาจากการจับ Keyword จากนามสกุลอารีย์กุลของเฌอปราง ซึ่งแยกเป็น อารีย์ กับ กุล\n",
    "6. Cosplay ใช่ครับ สมัยก่อนน้องเคยแต่ง Cosplay\n",
    "7. กัปตัน เฌอเป็นกัปตันวง BNK48(แฟนคลับบางคนถึงเรียกเฌอปรางว่า แคปเฌอ ครับ)\n",
    "8. ไข่มุก(คุณไข่) เป็น Member อีกคนครับ\n",
    "9. ลัลณ์ลลิน เตจะสา เวศซ์(เฌอเบลล์) เคยถ่ายรูปคู่กับเฌอปรางครับ"
   ]
  },
  {
   "cell_type": "markdown",
   "metadata": {},
   "source": [
    "## Related Queries\n",
    "ในขั้นตอนนี้เราจะดู Related Query ที่เกี่ยวข้องกับเฌอปราง โดยเราจะดูทั้งว่าเป็น Keyword อะไร รวมถึงจำนวน"
   ]
  },
  {
   "cell_type": "code",
   "execution_count": 9,
   "metadata": {},
   "outputs": [],
   "source": [
    "related_queries = pytrends.related_queries()[\"เฌอ ปราง\"]['rising']"
   ]
  },
  {
   "cell_type": "code",
   "execution_count": 10,
   "metadata": {
    "scrolled": false
   },
   "outputs": [
    {
     "data": {
      "text/html": [
       "<div>\n",
       "<style>\n",
       "    .dataframe thead tr:only-child th {\n",
       "        text-align: right;\n",
       "    }\n",
       "\n",
       "    .dataframe thead th {\n",
       "        text-align: left;\n",
       "    }\n",
       "\n",
       "    .dataframe tbody tr th {\n",
       "        vertical-align: top;\n",
       "    }\n",
       "</style>\n",
       "<table border=\"1\" class=\"dataframe\">\n",
       "  <thead>\n",
       "    <tr style=\"text-align: right;\">\n",
       "      <th></th>\n",
       "      <th>query</th>\n",
       "      <th>value</th>\n",
       "    </tr>\n",
       "  </thead>\n",
       "  <tbody>\n",
       "    <tr>\n",
       "      <th>0</th>\n",
       "      <td>bnk48</td>\n",
       "      <td>1061650</td>\n",
       "    </tr>\n",
       "    <tr>\n",
       "      <th>1</th>\n",
       "      <td>bnk48 เฌอ ปราง</td>\n",
       "      <td>1041800</td>\n",
       "    </tr>\n",
       "    <tr>\n",
       "      <th>2</th>\n",
       "      <td>เฌอ ปราง ประวัติ</td>\n",
       "      <td>274050</td>\n",
       "    </tr>\n",
       "    <tr>\n",
       "      <th>3</th>\n",
       "      <td>เฌอ ปราง อารีย์ กุล</td>\n",
       "      <td>245650</td>\n",
       "    </tr>\n",
       "    <tr>\n",
       "      <th>4</th>\n",
       "      <td>เฌอ ปราง bnk</td>\n",
       "      <td>175900</td>\n",
       "    </tr>\n",
       "    <tr>\n",
       "      <th>5</th>\n",
       "      <td>bnk</td>\n",
       "      <td>175600</td>\n",
       "    </tr>\n",
       "    <tr>\n",
       "      <th>6</th>\n",
       "      <td>แฟน เฌอ ปราง</td>\n",
       "      <td>167900</td>\n",
       "    </tr>\n",
       "    <tr>\n",
       "      <th>7</th>\n",
       "      <td>เฌอ ปราง ig</td>\n",
       "      <td>167500</td>\n",
       "    </tr>\n",
       "    <tr>\n",
       "      <th>8</th>\n",
       "      <td>ประวัติ เฌอ ปราง bnk48</td>\n",
       "      <td>146850</td>\n",
       "    </tr>\n",
       "    <tr>\n",
       "      <th>9</th>\n",
       "      <td>ปั ญ bnk48</td>\n",
       "      <td>104500</td>\n",
       "    </tr>\n",
       "    <tr>\n",
       "      <th>10</th>\n",
       "      <td>ประวัติ เฌอ ปราง อารีย์ กุล</td>\n",
       "      <td>90550</td>\n",
       "    </tr>\n",
       "    <tr>\n",
       "      <th>11</th>\n",
       "      <td>คุกกี้ เสี่ยงทาย</td>\n",
       "      <td>84000</td>\n",
       "    </tr>\n",
       "    <tr>\n",
       "      <th>12</th>\n",
       "      <td>bnk48 สมาชิก</td>\n",
       "      <td>83900</td>\n",
       "    </tr>\n",
       "    <tr>\n",
       "      <th>13</th>\n",
       "      <td>เฌอ ปราง แปล ว่า</td>\n",
       "      <td>83800</td>\n",
       "    </tr>\n",
       "    <tr>\n",
       "      <th>14</th>\n",
       "      <td>เฌอ ปราง pantip</td>\n",
       "      <td>76300</td>\n",
       "    </tr>\n",
       "    <tr>\n",
       "      <th>15</th>\n",
       "      <td>เฌอ ปราง อายุ</td>\n",
       "      <td>55650</td>\n",
       "    </tr>\n",
       "    <tr>\n",
       "      <th>16</th>\n",
       "      <td>เฌอ ปราง แฟน เก่า</td>\n",
       "      <td>48500</td>\n",
       "    </tr>\n",
       "    <tr>\n",
       "      <th>17</th>\n",
       "      <td>น้อง ชาย เฌอ ปราง</td>\n",
       "      <td>34350</td>\n",
       "    </tr>\n",
       "    <tr>\n",
       "      <th>18</th>\n",
       "      <td>cherprang</td>\n",
       "      <td>27950</td>\n",
       "    </tr>\n",
       "    <tr>\n",
       "      <th>19</th>\n",
       "      <td>bnk48 pantip</td>\n",
       "      <td>27600</td>\n",
       "    </tr>\n",
       "    <tr>\n",
       "      <th>20</th>\n",
       "      <td>เฌอ ปราง คอส เพล ย์</td>\n",
       "      <td>27450</td>\n",
       "    </tr>\n",
       "    <tr>\n",
       "      <th>21</th>\n",
       "      <td>เฌอ ปราง ตอน เด็ก</td>\n",
       "      <td>13750</td>\n",
       "    </tr>\n",
       "    <tr>\n",
       "      <th>22</th>\n",
       "      <td>bnk 48</td>\n",
       "      <td>13700</td>\n",
       "    </tr>\n",
       "    <tr>\n",
       "      <th>23</th>\n",
       "      <td>ไอ จี เฌอ ปราง</td>\n",
       "      <td>13650</td>\n",
       "    </tr>\n",
       "  </tbody>\n",
       "</table>\n",
       "</div>"
      ],
      "text/plain": [
       "                          query    value\n",
       "0                         bnk48  1061650\n",
       "1                bnk48 เฌอ ปราง  1041800\n",
       "2              เฌอ ปราง ประวัติ   274050\n",
       "3           เฌอ ปราง อารีย์ กุล   245650\n",
       "4                  เฌอ ปราง bnk   175900\n",
       "5                           bnk   175600\n",
       "6                  แฟน เฌอ ปราง   167900\n",
       "7                   เฌอ ปราง ig   167500\n",
       "8        ประวัติ เฌอ ปราง bnk48   146850\n",
       "9                    ปั ญ bnk48   104500\n",
       "10  ประวัติ เฌอ ปราง อารีย์ กุล    90550\n",
       "11             คุกกี้ เสี่ยงทาย    84000\n",
       "12                 bnk48 สมาชิก    83900\n",
       "13             เฌอ ปราง แปล ว่า    83800\n",
       "14              เฌอ ปราง pantip    76300\n",
       "15                เฌอ ปราง อายุ    55650\n",
       "16            เฌอ ปราง แฟน เก่า    48500\n",
       "17            น้อง ชาย เฌอ ปราง    34350\n",
       "18                    cherprang    27950\n",
       "19                 bnk48 pantip    27600\n",
       "20          เฌอ ปราง คอส เพล ย์    27450\n",
       "21            เฌอ ปราง ตอน เด็ก    13750\n",
       "22                       bnk 48    13700\n",
       "23               ไอ จี เฌอ ปราง    13650"
      ]
     },
     "execution_count": 10,
     "metadata": {},
     "output_type": "execute_result"
    }
   ],
   "source": [
    "related_queries"
   ]
  },
  {
   "cell_type": "markdown",
   "metadata": {},
   "source": [
    "จะพบว่ามีประเด็นคล้ายๆเดิม แต่มีประเด็นที่น่าสนใจดังนี้\n",
    "1. เฌอปรางเกิดวันที่ 2 พฤษภาคม 2539 ครับ\n",
    "2. แฟนเก่าเฌอปราง เนื่องจากเฌอปรางเคยให้สัมภาษณ์ก่อนเข้าวงว่าเคยมีแฟนแต่เลิกกันเพราะได้รับการคัดเลือกเข้า BNK48\n",
    "3. น้องชายเฌอปรางชื่อ ฌอน ครับ "
   ]
  },
  {
   "cell_type": "markdown",
   "metadata": {},
   "source": [
    "## Compare with BNK48\n",
    "สุดท้ายเราจะทำการเทียบระหว่าง Cherprang และ BNK48 โดยเมื่อดู Trend ทั้งสองจากกราฟพบว่าอาจมี Correlation กันสูงมาก เนื่องจากเมื่อคนคิดถึง BNK48 ชื่อที่ลอยมาแรกๆคือ เฌอปราง และ ปัญ"
   ]
  },
  {
   "cell_type": "code",
   "execution_count": 11,
   "metadata": {},
   "outputs": [],
   "source": [
    "kw_BNK48 = [\"BNK48\"]\n",
    "pytrends.build_payload(kw_BNK48)\n",
    "interest_BNK = pytrends.interest_over_time()\n",
    "interest_BNK = interest_BNK[interest_BNK[\"BNK48\"] != 0]\n",
    "interest_BNK = interest_BNK[interest_BNK.index.isin(pd.date_range(\"2017-01-01\", \"2018-03-16\"))]"
   ]
  },
  {
   "cell_type": "code",
   "execution_count": 12,
   "metadata": {
    "scrolled": false
   },
   "outputs": [
    {
     "data": {
      "text/plain": [
       "<matplotlib.legend.Legend at 0x119401160>"
      ]
     },
     "execution_count": 12,
     "metadata": {},
     "output_type": "execute_result"
    },
    {
     "data": {
      "image/png": "[encoded data removed]",
      "text/plain": [
       "<matplotlib.figure.Figure at 0x10e4fa898>"
      ]
     },
     "metadata": {},
     "output_type": "display_data"
    }
   ],
   "source": [
    "plt.figure(figsize=(10,6))\n",
    "plt.plot(interest.index, interest[\"Cherprang\"], 'r') # plotting t, a separately \n",
    "plt.plot(interest_BNK.index,interest_BNK[\"BNK48\"], 'b')# plotting t, b separately \n",
    "plt.xlabel(\"Date\")\n",
    "plt.legend([\"Cherprang\",\"BNK48\"])"
   ]
  }
 ],
 "metadata": {
  "kernelspec": {
   "display_name": "Python 3",
   "language": "python",
   "name": "python3"
  },
  "language_info": {
   "codemirror_mode": {
    "name": "ipython",
    "version": 3
   },
   "file_extension": ".py",
   "mimetype": "text/x-python",
   "name": "python",
   "nbconvert_exporter": "python",
   "pygments_lexer": "ipython3",
   "version": "3.6.3"
  }
 },
 "nbformat": 4,
 "nbformat_minor": 2
}
