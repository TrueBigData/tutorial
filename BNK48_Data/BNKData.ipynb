{
 "cells": [
  {
   "cell_type": "markdown",
   "metadata": {
    "colab_type": "text",
    "id": "qyKj5oHooBx5"
   },
   "source": [
    "# BNK Dataset\n",
    "สำหรับให้คนมาสนใจ data science มากขึ้น"
   ]
  },
  {
   "cell_type": "markdown",
   "metadata": {
    "colab_type": "text",
    "id": "Y0GjYEC6oROb"
   },
   "source": [
    "## Import"
   ]
  },
  {
   "cell_type": "code",
   "execution_count": 1,
   "metadata": {},
   "outputs": [],
   "source": [
    "from lxml.etree import XML\n",
    "from bs4 import BeautifulSoup as bs\n",
    "from requests import get\n",
    "import re\n",
    "from datetime import datetime\n",
    "import pandas as pd"
   ]
  },
  {
   "cell_type": "markdown",
   "metadata": {},
   "source": [
    "## ดึงข้อมูล"
   ]
  },
  {
   "cell_type": "code",
   "execution_count": 2,
   "metadata": {},
   "outputs": [],
   "source": [
    "url = 'http://stage48.net/wiki/index.php/BNK48_Members'\n",
    "r = get(url)\n",
    "text = r.text.replace('Junuary', 'January')"
   ]
  },
  {
   "cell_type": "code",
   "execution_count": 3,
   "metadata": {},
   "outputs": [],
   "source": [
    "so = bs(text, 'lxml')\n",
    "tb = so.select('table')\n",
    "tb1, tb2 = tb[1:]"
   ]
  },
  {
   "cell_type": "code",
   "execution_count": 4,
   "metadata": {},
   "outputs": [],
   "source": [
    "def gen_tr():\n",
    "  for tr in tb1.select('tr')[1:]:\n",
    "    yield tr\n",
    "  for tr in tb2.select('tr')[1:]:\n",
    "    yield tr"
   ]
  },
  {
   "cell_type": "code",
   "execution_count": 5,
   "metadata": {},
   "outputs": [],
   "source": [
    "def get_info(tr):\n",
    "  td = tr.select('td')\n",
    "  name_en = td[1].a.text\n",
    "  #name_th = td[2].text.strip()\n",
    "  pat_name = rf'([^(]+)(\\(Japanese\\xa0: (.*)\\))?'\n",
    "  m = re.match(pat_name, td[2].text.strip())\n",
    "  name_th = m[1]\n",
    "  name_jp = m[3]\n",
    "  \n",
    "  nickname = td[3].text.strip()\n",
    "  \n",
    "  ennick = r'(?P<en>[-\\w]+)'\n",
    "  japnick = '(?P<jp>[^),]+), '\n",
    "  thnick = '(?P<th>[ก-๙]+)'\n",
    "  pat_nick = rf'{ennick} \\(({japnick})?{thnick}\\)'\n",
    "  try:\n",
    "    m = re.match(pat_nick, nickname)\n",
    "    nickname_en = m['en']\n",
    "    nickname_jp = m['jp']\n",
    "    nickname_th = m['th']\n",
    "  except:\n",
    "    print(nickname)\n",
    "  \n",
    "  bd = td[4].text.strip()\n",
    "  bd = datetime.strptime(bd, '%B %d, %Y')\n",
    "  birthdate = bd.date().isoformat()\n",
    "\n",
    "  province, country = td[5].i.text.split(', ') # birthplace\n",
    "  blood =  td[6].text.strip()\n",
    "  height = td[8].text.strip()[:-2]\n",
    "  return [name_en, name_th, name_jp, nickname_en, nickname_th, nickname_jp, birthdate, province, country, blood, height]"
   ]
  },
  {
   "cell_type": "code",
   "execution_count": 6,
   "metadata": {},
   "outputs": [],
   "source": [
    "data = [get_info(tr) for tr in gen_tr()]"
   ]
  },
  {
   "cell_type": "markdown",
   "metadata": {},
   "source": [
    "Convert list to Pandas Dataframe"
   ]
  },
  {
   "cell_type": "code",
   "execution_count": 7,
   "metadata": {},
   "outputs": [
    {
     "data": {
      "text/html": [
       "<div>\n",
       "<style scoped>\n",
       "    .dataframe tbody tr th:only-of-type {\n",
       "        vertical-align: middle;\n",
       "    }\n",
       "\n",
       "    .dataframe tbody tr th {\n",
       "        vertical-align: top;\n",
       "    }\n",
       "\n",
       "    .dataframe thead th {\n",
       "        text-align: right;\n",
       "    }\n",
       "</style>\n",
       "<table border=\"1\" class=\"dataframe\">\n",
       "  <thead>\n",
       "    <tr style=\"text-align: right;\">\n",
       "      <th></th>\n",
       "      <th>name_en</th>\n",
       "      <th>name_th</th>\n",
       "      <th>name_jp</th>\n",
       "      <th>nickname_en</th>\n",
       "      <th>nickname_th</th>\n",
       "      <th>nickname_jp</th>\n",
       "      <th>birthdate</th>\n",
       "      <th>province</th>\n",
       "      <th>country</th>\n",
       "      <th>blood</th>\n",
       "      <th>height</th>\n",
       "    </tr>\n",
       "  </thead>\n",
       "  <tbody>\n",
       "    <tr>\n",
       "      <th>0</th>\n",
       "      <td>Cherprang Areekul</td>\n",
       "      <td>เฌอปราง อารีย์กุล</td>\n",
       "      <td>None</td>\n",
       "      <td>Cherprang</td>\n",
       "      <td>เฌอปราง</td>\n",
       "      <td>None</td>\n",
       "      <td>1996-05-02</td>\n",
       "      <td>Bangkok</td>\n",
       "      <td>Thailand</td>\n",
       "      <td>B</td>\n",
       "      <td>160</td>\n",
       "    </tr>\n",
       "    <tr>\n",
       "      <th>1</th>\n",
       "      <td>Isarapa Thawatpakdee</td>\n",
       "      <td>อิสราภา ธวัชภักดี</td>\n",
       "      <td>None</td>\n",
       "      <td>Tarwaan</td>\n",
       "      <td>ตาหวาน</td>\n",
       "      <td>None</td>\n",
       "      <td>1996-12-18</td>\n",
       "      <td>Nakhon Pathom</td>\n",
       "      <td>Thailand</td>\n",
       "      <td>O</td>\n",
       "      <td>156</td>\n",
       "    </tr>\n",
       "    <tr>\n",
       "      <th>2</th>\n",
       "      <td>Jennis Oprasert</td>\n",
       "      <td>เจนนิษฐ์ โอ่ประเสริฐ</td>\n",
       "      <td>None</td>\n",
       "      <td>Jennis</td>\n",
       "      <td>เจนนิษฐ์</td>\n",
       "      <td>None</td>\n",
       "      <td>2000-07-04</td>\n",
       "      <td>Petchaburi</td>\n",
       "      <td>Thailand</td>\n",
       "      <td>O</td>\n",
       "      <td>161</td>\n",
       "    </tr>\n",
       "    <tr>\n",
       "      <th>3</th>\n",
       "      <td>Jiradapa Intajak</td>\n",
       "      <td>จิรดาภา อินทจักร</td>\n",
       "      <td>None</td>\n",
       "      <td>Pupe</td>\n",
       "      <td>ปูเป้</td>\n",
       "      <td>None</td>\n",
       "      <td>1998-01-18</td>\n",
       "      <td>Chiang Rai</td>\n",
       "      <td>Thailand</td>\n",
       "      <td>B</td>\n",
       "      <td>160</td>\n",
       "    </tr>\n",
       "    <tr>\n",
       "      <th>4</th>\n",
       "      <td>Kanteera Wadcharathadsanakul</td>\n",
       "      <td>กานต์ธีรา วัชรทัศนกุล</td>\n",
       "      <td>None</td>\n",
       "      <td>Noey</td>\n",
       "      <td>เนย</td>\n",
       "      <td>None</td>\n",
       "      <td>1997-04-09</td>\n",
       "      <td>Samut Prakan</td>\n",
       "      <td>Thailand</td>\n",
       "      <td>AB</td>\n",
       "      <td>158</td>\n",
       "    </tr>\n",
       "  </tbody>\n",
       "</table>\n",
       "</div>"
      ],
      "text/plain": [
       "                        name_en                name_th name_jp nickname_en  \\\n",
       "0             Cherprang Areekul      เฌอปราง อารีย์กุล    None   Cherprang   \n",
       "1          Isarapa Thawatpakdee      อิสราภา ธวัชภักดี    None     Tarwaan   \n",
       "2               Jennis Oprasert   เจนนิษฐ์ โอ่ประเสริฐ    None      Jennis   \n",
       "3              Jiradapa Intajak       จิรดาภา อินทจักร    None        Pupe   \n",
       "4  Kanteera Wadcharathadsanakul  กานต์ธีรา วัชรทัศนกุล    None        Noey   \n",
       "\n",
       "  nickname_th nickname_jp   birthdate       province   country blood height  \n",
       "0     เฌอปราง        None  1996-05-02        Bangkok  Thailand     B    160  \n",
       "1      ตาหวาน        None  1996-12-18  Nakhon Pathom  Thailand     O    156  \n",
       "2    เจนนิษฐ์        None  2000-07-04     Petchaburi  Thailand     O    161  \n",
       "3       ปูเป้        None  1998-01-18     Chiang Rai  Thailand     B    160  \n",
       "4         เนย        None  1997-04-09   Samut Prakan  Thailand    AB    158  "
      ]
     },
     "execution_count": 7,
     "metadata": {},
     "output_type": "execute_result"
    }
   ],
   "source": [
    "columns='name_en, name_th, name_jp, nickname_en, nickname_th, nickname_jp, birthdate, province, country, blood, height'.split(', ')\n",
    "BNK48Data = pd.DataFrame(data, columns=columns)\n",
    "BNK48Data.head()"
   ]
  },
  {
   "cell_type": "markdown",
   "metadata": {
    "colab_type": "text",
    "id": "MzejHA9ORiSq"
   },
   "source": [
    "## Data Exploration\n",
    "1. Checking data type\n",
    "2. Print header\n",
    "3. Print record that contain Japanese Name\n",
    "\n",
    "Checking data type"
   ]
  },
  {
   "cell_type": "code",
   "execution_count": 8,
   "metadata": {},
   "outputs": [
    {
     "data": {
      "text/plain": [
       "26"
      ]
     },
     "execution_count": 8,
     "metadata": {},
     "output_type": "execute_result"
    }
   ],
   "source": [
    "len(BNK48Data)"
   ]
  },
  {
   "cell_type": "code",
   "execution_count": 9,
   "metadata": {
    "scrolled": true
   },
   "outputs": [
    {
     "name": "stdout",
     "output_type": "stream",
     "text": [
      "name_en        object\n",
      "name_th        object\n",
      "name_jp        object\n",
      "nickname_en    object\n",
      "nickname_th    object\n",
      "nickname_jp    object\n",
      "birthdate      object\n",
      "province       object\n",
      "country        object\n",
      "blood          object\n",
      "height         object\n",
      "dtype: object\n"
     ]
    }
   ],
   "source": [
    "print(BNK48Data.dtypes)"
   ]
  },
  {
   "cell_type": "code",
   "execution_count": 10,
   "metadata": {},
   "outputs": [],
   "source": [
    "BNK48Data[\"height\"] = BNK48Data[\"height\"].astype(\"int64\")\n",
    "BNK48Data[\"birthdate\"] = pd.to_datetime(BNK48Data[\"birthdate\"])"
   ]
  },
  {
   "cell_type": "code",
   "execution_count": 11,
   "metadata": {
    "scrolled": true
   },
   "outputs": [
    {
     "data": {
      "text/html": [
       "<div>\n",
       "<style scoped>\n",
       "    .dataframe tbody tr th:only-of-type {\n",
       "        vertical-align: middle;\n",
       "    }\n",
       "\n",
       "    .dataframe tbody tr th {\n",
       "        vertical-align: top;\n",
       "    }\n",
       "\n",
       "    .dataframe thead th {\n",
       "        text-align: right;\n",
       "    }\n",
       "</style>\n",
       "<table border=\"1\" class=\"dataframe\">\n",
       "  <thead>\n",
       "    <tr style=\"text-align: right;\">\n",
       "      <th></th>\n",
       "      <th>name_en</th>\n",
       "      <th>name_th</th>\n",
       "      <th>name_jp</th>\n",
       "      <th>nickname_en</th>\n",
       "      <th>nickname_th</th>\n",
       "      <th>nickname_jp</th>\n",
       "      <th>birthdate</th>\n",
       "      <th>province</th>\n",
       "      <th>country</th>\n",
       "      <th>blood</th>\n",
       "      <th>height</th>\n",
       "    </tr>\n",
       "  </thead>\n",
       "  <tbody>\n",
       "    <tr>\n",
       "      <th>8</th>\n",
       "      <td>Miori Ohkubo</td>\n",
       "      <td>มิโอริ โอคุโบะ</td>\n",
       "      <td>大久保 美織</td>\n",
       "      <td>Miori</td>\n",
       "      <td>มี่โกะ</td>\n",
       "      <td>みおり</td>\n",
       "      <td>1998-09-30</td>\n",
       "      <td>Ibaraki</td>\n",
       "      <td>Japan</td>\n",
       "      <td>O</td>\n",
       "      <td>153</td>\n",
       "    </tr>\n",
       "    <tr>\n",
       "      <th>18</th>\n",
       "      <td>Rina Izuta</td>\n",
       "      <td>รินะ อิซึตะ</td>\n",
       "      <td>伊豆田 莉奈</td>\n",
       "      <td>Izuriina</td>\n",
       "      <td>อิสึรินะ</td>\n",
       "      <td>いずりーな</td>\n",
       "      <td>1995-11-26</td>\n",
       "      <td>Saitama</td>\n",
       "      <td>Japan</td>\n",
       "      <td>A</td>\n",
       "      <td>153</td>\n",
       "    </tr>\n",
       "    <tr>\n",
       "      <th>19</th>\n",
       "      <td>Sawitchaya Kajonrungsilp</td>\n",
       "      <td>สวิชญา ขจรรุ่งศิลป์</td>\n",
       "      <td>花見 咲知弥</td>\n",
       "      <td>Satchan</td>\n",
       "      <td>ซัทจัง</td>\n",
       "      <td>さっちゃん</td>\n",
       "      <td>2003-12-13</td>\n",
       "      <td>Bangkok</td>\n",
       "      <td>Thailand</td>\n",
       "      <td>A</td>\n",
       "      <td>150</td>\n",
       "    </tr>\n",
       "  </tbody>\n",
       "</table>\n",
       "</div>"
      ],
      "text/plain": [
       "                     name_en              name_th name_jp nickname_en  \\\n",
       "8               Miori Ohkubo       มิโอริ โอคุโบะ  大久保 美織       Miori   \n",
       "18                Rina Izuta          รินะ อิซึตะ  伊豆田 莉奈    Izuriina   \n",
       "19  Sawitchaya Kajonrungsilp  สวิชญา ขจรรุ่งศิลป์  花見 咲知弥     Satchan   \n",
       "\n",
       "   nickname_th nickname_jp  birthdate province   country blood  height  \n",
       "8       มี่โกะ         みおり 1998-09-30  Ibaraki     Japan     O     153  \n",
       "18    อิสึรินะ       いずりーな 1995-11-26  Saitama     Japan     A     153  \n",
       "19      ซัทจัง       さっちゃん 2003-12-13  Bangkok  Thailand     A     150  "
      ]
     },
     "execution_count": 11,
     "metadata": {},
     "output_type": "execute_result"
    }
   ],
   "source": [
    "BNK48Data[BNK48Data.nickname_jp.notnull()]"
   ]
  },
  {
   "cell_type": "markdown",
   "metadata": {},
   "source": [
    "## แก้ไขข้อมูล\n",
    "1. แก้ไขสถานที่เกิดของเฌอปราง(เฌอปรางเกิดที่ อ.หาดใหญ่ จ.สงขลา)\n",
    "2. แก้ไขชื่อ Izurina จาก Izuriina เป็น Izurina"
   ]
  },
  {
   "cell_type": "code",
   "execution_count": 12,
   "metadata": {
    "scrolled": true
   },
   "outputs": [
    {
     "data": {
      "text/html": [
       "<div>\n",
       "<style scoped>\n",
       "    .dataframe tbody tr th:only-of-type {\n",
       "        vertical-align: middle;\n",
       "    }\n",
       "\n",
       "    .dataframe tbody tr th {\n",
       "        vertical-align: top;\n",
       "    }\n",
       "\n",
       "    .dataframe thead th {\n",
       "        text-align: right;\n",
       "    }\n",
       "</style>\n",
       "<table border=\"1\" class=\"dataframe\">\n",
       "  <thead>\n",
       "    <tr style=\"text-align: right;\">\n",
       "      <th></th>\n",
       "      <th>name_en</th>\n",
       "      <th>name_th</th>\n",
       "      <th>name_jp</th>\n",
       "      <th>nickname_en</th>\n",
       "      <th>nickname_th</th>\n",
       "      <th>nickname_jp</th>\n",
       "      <th>birthdate</th>\n",
       "      <th>province</th>\n",
       "      <th>country</th>\n",
       "      <th>blood</th>\n",
       "      <th>height</th>\n",
       "    </tr>\n",
       "  </thead>\n",
       "  <tbody>\n",
       "    <tr>\n",
       "      <th>0</th>\n",
       "      <td>Cherprang Areekul</td>\n",
       "      <td>เฌอปราง อารีย์กุล</td>\n",
       "      <td>None</td>\n",
       "      <td>Cherprang</td>\n",
       "      <td>เฌอปราง</td>\n",
       "      <td>None</td>\n",
       "      <td>1996-05-02</td>\n",
       "      <td>Songkhla</td>\n",
       "      <td>Thailand</td>\n",
       "      <td>B</td>\n",
       "      <td>160</td>\n",
       "    </tr>\n",
       "    <tr>\n",
       "      <th>1</th>\n",
       "      <td>Isarapa Thawatpakdee</td>\n",
       "      <td>อิสราภา ธวัชภักดี</td>\n",
       "      <td>None</td>\n",
       "      <td>Tarwaan</td>\n",
       "      <td>ตาหวาน</td>\n",
       "      <td>None</td>\n",
       "      <td>1996-12-18</td>\n",
       "      <td>Nakhon Pathom</td>\n",
       "      <td>Thailand</td>\n",
       "      <td>O</td>\n",
       "      <td>156</td>\n",
       "    </tr>\n",
       "    <tr>\n",
       "      <th>2</th>\n",
       "      <td>Jennis Oprasert</td>\n",
       "      <td>เจนนิษฐ์ โอ่ประเสริฐ</td>\n",
       "      <td>None</td>\n",
       "      <td>Jennis</td>\n",
       "      <td>เจนนิษฐ์</td>\n",
       "      <td>None</td>\n",
       "      <td>2000-07-04</td>\n",
       "      <td>Petchaburi</td>\n",
       "      <td>Thailand</td>\n",
       "      <td>O</td>\n",
       "      <td>161</td>\n",
       "    </tr>\n",
       "    <tr>\n",
       "      <th>3</th>\n",
       "      <td>Jiradapa Intajak</td>\n",
       "      <td>จิรดาภา อินทจักร</td>\n",
       "      <td>None</td>\n",
       "      <td>Pupe</td>\n",
       "      <td>ปูเป้</td>\n",
       "      <td>None</td>\n",
       "      <td>1998-01-18</td>\n",
       "      <td>Chiang Rai</td>\n",
       "      <td>Thailand</td>\n",
       "      <td>B</td>\n",
       "      <td>160</td>\n",
       "    </tr>\n",
       "    <tr>\n",
       "      <th>4</th>\n",
       "      <td>Kanteera Wadcharathadsanakul</td>\n",
       "      <td>กานต์ธีรา วัชรทัศนกุล</td>\n",
       "      <td>None</td>\n",
       "      <td>Noey</td>\n",
       "      <td>เนย</td>\n",
       "      <td>None</td>\n",
       "      <td>1997-04-09</td>\n",
       "      <td>Samut Prakan</td>\n",
       "      <td>Thailand</td>\n",
       "      <td>AB</td>\n",
       "      <td>158</td>\n",
       "    </tr>\n",
       "  </tbody>\n",
       "</table>\n",
       "</div>"
      ],
      "text/plain": [
       "                        name_en                name_th name_jp nickname_en  \\\n",
       "0             Cherprang Areekul      เฌอปราง อารีย์กุล    None   Cherprang   \n",
       "1          Isarapa Thawatpakdee      อิสราภา ธวัชภักดี    None     Tarwaan   \n",
       "2               Jennis Oprasert   เจนนิษฐ์ โอ่ประเสริฐ    None      Jennis   \n",
       "3              Jiradapa Intajak       จิรดาภา อินทจักร    None        Pupe   \n",
       "4  Kanteera Wadcharathadsanakul  กานต์ธีรา วัชรทัศนกุล    None        Noey   \n",
       "\n",
       "  nickname_th nickname_jp  birthdate       province   country blood  height  \n",
       "0     เฌอปราง        None 1996-05-02       Songkhla  Thailand     B     160  \n",
       "1      ตาหวาน        None 1996-12-18  Nakhon Pathom  Thailand     O     156  \n",
       "2    เจนนิษฐ์        None 2000-07-04     Petchaburi  Thailand     O     161  \n",
       "3       ปูเป้        None 1998-01-18     Chiang Rai  Thailand     B     160  \n",
       "4         เนย        None 1997-04-09   Samut Prakan  Thailand    AB     158  "
      ]
     },
     "execution_count": 12,
     "metadata": {},
     "output_type": "execute_result"
    }
   ],
   "source": [
    "BNK48Data.iloc[0,7] = \"Songkhla\"\n",
    "BNK48Data[\"nickname_en\"] = BNK48Data[\"nickname_en\"].str.replace(\"Izuriina\",\"Izurina\")\n",
    "BNK48Data.head()"
   ]
  },
  {
   "cell_type": "markdown",
   "metadata": {},
   "source": [
    "## Visualization\n",
    "import Seaborn library and call Jupyter Notebook magic command"
   ]
  },
  {
   "cell_type": "code",
   "execution_count": 13,
   "metadata": {},
   "outputs": [],
   "source": [
    "%matplotlib inline\n",
    "import seaborn as sns"
   ]
  },
  {
   "cell_type": "markdown",
   "metadata": {},
   "source": [
    "Plot\n",
    "1. Blood Type\n",
    "2. Distribution of Height \n",
    "3. Distribution of Age"
   ]
  },
  {
   "cell_type": "code",
   "execution_count": 14,
   "metadata": {},
   "outputs": [
    {
     "data": {
      "image/png": "[encoded data removed]",
      "text/plain": [
       "<matplotlib.figure.Figure at 0x11c026d30>"
      ]
     },
     "metadata": {},
     "output_type": "display_data"
    }
   ],
   "source": [
    "sns.set(style=\"darkgrid\")\n",
    "ax = sns.countplot(x=\"blood\", data=BNK48Data)"
   ]
  },
  {
   "cell_type": "code",
   "execution_count": 15,
   "metadata": {},
   "outputs": [
    {
     "data": {
      "text/plain": [
       "<seaborn.axisgrid.FacetGrid at 0x11c142ef0>"
      ]
     },
     "execution_count": 15,
     "metadata": {},
     "output_type": "execute_result"
    },
    {
     "data": {
      "image/png": "[encoded data removed]",
      "text/plain": [
       "<matplotlib.figure.Figure at 0x11c142e80>"
      ]
     },
     "metadata": {},
     "output_type": "display_data"
    }
   ],
   "source": [
    "bx = sns.factorplot(\"province\", data=BNK48Data, aspect=1.5, kind=\"count\")\n",
    "bx.set_xticklabels(rotation=90)"
   ]
  },
  {
   "cell_type": "code",
   "execution_count": 16,
   "metadata": {},
   "outputs": [
    {
     "data": {
      "text/plain": [
       "<matplotlib.axes._subplots.AxesSubplot at 0x11e1e5b38>"
      ]
     },
     "execution_count": 16,
     "metadata": {},
     "output_type": "execute_result"
    },
    {
     "data": {
      "image/png": "[encoded data removed]",
      "text/plain": [
       "<matplotlib.figure.Figure at 0x11e2c7e48>"
      ]
     },
     "metadata": {},
     "output_type": "display_data"
    }
   ],
   "source": [
    "sns.distplot(BNK48Data[\"height\"])"
   ]
  },
  {
   "cell_type": "code",
   "execution_count": 17,
   "metadata": {},
   "outputs": [
    {
     "data": {
      "text/plain": [
       "<matplotlib.axes._subplots.AxesSubplot at 0x11e3ecac8>"
      ]
     },
     "execution_count": 17,
     "metadata": {},
     "output_type": "execute_result"
    },
    {
     "data": {
      "image/png": "[encoded data removed]",
      "text/plain": [
       "<matplotlib.figure.Figure at 0x11c1422e8>"
      ]
     },
     "metadata": {},
     "output_type": "display_data"
    }
   ],
   "source": [
    "from math import floor\n",
    "myday = pd.to_datetime('2018-03-5')\n",
    "BNK48Data[\"Age\"] = BNK48Data[\"birthdate\"].apply(lambda x: floor(len(pd.date_range(start = x,end = myday, freq = \"D\"))/365))\n",
    "sns.distplot(BNK48Data[\"Age\"])"
   ]
  }
 ],
 "metadata": {
  "kernelspec": {
   "display_name": "Python 3",
   "language": "python",
   "name": "python3"
  },
  "language_info": {
   "codemirror_mode": {
    "name": "ipython",
    "version": 3
   },
   "file_extension": ".py",
   "mimetype": "text/x-python",
   "name": "python",
   "nbconvert_exporter": "python",
   "pygments_lexer": "ipython3",
   "version": "3.6.4"
  }
 },
 "nbformat": 4,
 "nbformat_minor": 2
}
