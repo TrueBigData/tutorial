{
 "cells": [
  {
   "cell_type": "markdown",
   "metadata": {
    "colab_type": "text",
    "id": "CKh-8yNMKPFP"
   },
   "source": [
    "In this tutorial, we show how to\n",
    "1. Collect data from website\n",
    "2. Transform JSON format to Pandas Dataframe\n",
    "3. Data Transformation\n",
    "4. Visualization"
   ]
  },
  {
   "cell_type": "markdown",
   "metadata": {
    "colab_type": "text",
    "id": "lVeZXTJ8Kn-n"
   },
   "source": [
    "## Collect data"
   ]
  },
  {
   "cell_type": "code",
   "execution_count": 1,
   "metadata": {
    "colab": {
     "autoexec": {
      "startup": false,
      "wait_interval": 0
     }
    },
    "colab_type": "code",
    "id": "aS_qYDYocvQ9"
   },
   "outputs": [],
   "source": [
    "from requests import get\n",
    "url = 'https://www.api.bnk48.com/api/members?limit=100'\n",
    "get_url = get(url)\n",
    "member = get_url.json()['members']"
   ]
  },
  {
   "cell_type": "markdown",
   "metadata": {
    "colab_type": "text",
    "id": "ZBl3Ll0aKHXi"
   },
   "source": [
    "Print Example of json element"
   ]
  },
  {
   "cell_type": "code",
   "execution_count": 2,
   "metadata": {
    "colab": {
     "autoexec": {
      "startup": false,
      "wait_interval": 0
     },
     "base_uri": "https://localhost:8080/",
     "height": 513,
     "output_extras": [
      {
       "item_id": 1
      }
     ]
    },
    "colab_type": "code",
    "executionInfo": {
     "elapsed": 893,
     "status": "ok",
     "timestamp": 1519634049066,
     "user": {
      "displayName": "Thatchaphon Kaeosuriya",
      "photoUrl": "//lh6.googleusercontent.com/-OxPJNVPzEb4/AAAAAAAAAAI/AAAAAAAAAAs/t2d_82u8LrI/s50-c-k-no/photo.jpg",
      "userId": "102042915427851234990"
     },
     "user_tz": -420
    },
    "id": "WSuKDaZ_c-NO",
    "outputId": "876cfeb6-c73a-4051-ed42-0b042aa68653"
   },
   "outputs": [
    {
     "data": {
      "text/plain": [
       "{'avatar_image': 'https://bnk48-www-html.s3-ap-southeast-1.amazonaws.com/uploads/members/file-08ccbfae706a2ebd07e39d352b2947cb.jpg',\n",
       " 'bio': {'dislike_foods': {'en': 'ถั่วในเค้ก', 'th': 'ถั่วในเค้ก'},\n",
       "  'dislike_school_subjects': {},\n",
       "  'dislikes': {},\n",
       "  'favourite_foods': {'en': 'เต้าหู้ไข่/ เค้ก', 'th': 'เต้าหู้ไข่/ เค้ก'},\n",
       "  'favourite_games': {'en': 'JRPG/ MOBA', 'th': 'JRPG/ MOBA'},\n",
       "  'favourite_school_subjects': {},\n",
       "  'food_allergies': {},\n",
       "  'hobbies': {'en': 'กิน นอน เล่นเกม ฟังเพลง Cosplay',\n",
       "   'th': 'กิน, นอน, เล่นเกม, ฟังเพลง, Cosplay'},\n",
       "  'likes': {'th': '-'}},\n",
       " 'birth_date': 830995200000,\n",
       " 'blood_group': 2,\n",
       " 'changed': 1511939830431,\n",
       " 'created': 1504149696733,\n",
       " 'first_name': {'en': 'Cherprang', 'th': 'เฌอปราง'},\n",
       " 'height': 160,\n",
       " 'id': 2,\n",
       " 'instagram': 'cherprang.bnk48official',\n",
       " 'last_name': {'en': 'Areekul', 'th': 'อารีย์กุล'},\n",
       " 'nickname': {'en': 'Cherprang', 'th': 'เฌอปราง'},\n",
       " 'position': 99,\n",
       " 'profile_image': 'https://bnk48-www-html.s3-ap-southeast-1.amazonaws.com/uploads/members/file-0341204af64d796fb3c715fd86ba4262.png',\n",
       " 'profile_image_2x': 'https://bnk48-www-html.s3-ap-southeast-1.amazonaws.com/uploads/members/file-e993f28e3697548a0992f7f829fc785e.png',\n",
       " 'province': 'Bangkok',\n",
       " 'slug': 'cherprang',\n",
       " 'status': 1,\n",
       " 'team': 2}"
      ]
     },
     "execution_count": 2,
     "metadata": {},
     "output_type": "execute_result"
    }
   ],
   "source": [
    "member[0]"
   ]
  },
  {
   "cell_type": "markdown",
   "metadata": {
    "colab_type": "text",
    "id": "QuhFYnuYKrWT"
   },
   "source": [
    "## Transform to Pandas Dataframe"
   ]
  },
  {
   "cell_type": "markdown",
   "metadata": {
    "colab_type": "text",
    "id": "Y1HECpZPKHX8"
   },
   "source": [
    "We transform json element to DataFrame via Pandas Library "
   ]
  },
  {
   "cell_type": "code",
   "execution_count": 3,
   "metadata": {
    "colab": {
     "autoexec": {
      "startup": false,
      "wait_interval": 0
     },
     "base_uri": "https://localhost:8080/",
     "height": 139,
     "output_extras": [
      {
       "item_id": 4
      }
     ]
    },
    "colab_type": "code",
    "executionInfo": {
     "elapsed": 4012,
     "status": "ok",
     "timestamp": 1519634055268,
     "user": {
      "displayName": "Thatchaphon Kaeosuriya",
      "photoUrl": "//lh6.googleusercontent.com/-OxPJNVPzEb4/AAAAAAAAAAI/AAAAAAAAAAs/t2d_82u8LrI/s50-c-k-no/photo.jpg",
      "userId": "102042915427851234990"
     },
     "user_tz": -420
    },
    "id": "N0rugf7Kdn_7",
    "outputId": "e85c3e53-242f-434b-fdcf-0b1f737981b7"
   },
   "outputs": [
    {
     "name": "stdout",
     "output_type": "stream",
     "text": [
      "['avatar_image', 'bio.dislike_foods.en', 'bio.dislike_foods.th', 'bio.dislike_school_subjects.en', 'bio.dislike_school_subjects.th', 'bio.dislikes.en', 'bio.dislikes.th', 'bio.favourite_foods.en', 'bio.favourite_foods.th', 'bio.favourite_games.en', 'bio.favourite_games.th', 'bio.favourite_school_subjects.en', 'bio.favourite_school_subjects.th', 'bio.food_allergies.en', 'bio.food_allergies.th', 'bio.hobbies.en', 'bio.hobbies.th', 'bio.likes.en', 'bio.likes.th', 'birth_date', 'blood_group', 'changed', 'created', 'first_name.en', 'first_name.th', 'height', 'id', 'instagram', 'last_name.en', 'last_name.th', 'nickname.en', 'nickname.th', 'position', 'profile_image', 'profile_image_2x', 'province', 'slug', 'status', 'team']\n"
     ]
    }
   ],
   "source": [
    "import pandas as pd\n",
    "from pandas.io.json import json_normalize\n",
    "bnk48 = pd.DataFrame.from_dict(json_normalize(member), orient='columns')\n",
    "print(list(bnk48))"
   ]
  },
  {
   "cell_type": "markdown",
   "metadata": {
    "colab_type": "text",
    "id": "CHan4_9bKxBz"
   },
   "source": [
    "## Data Cleansing and Transformation"
   ]
  },
  {
   "cell_type": "markdown",
   "metadata": {
    "colab_type": "text",
    "id": "OJVPmljBKHYC"
   },
   "source": [
    "Change some column name"
   ]
  },
  {
   "cell_type": "code",
   "execution_count": 4,
   "metadata": {
    "colab": {
     "autoexec": {
      "startup": false,
      "wait_interval": 0
     }
    },
    "colab_type": "code",
    "id": "YGcGo-ENogRw"
   },
   "outputs": [],
   "source": [
    "bnk48_transform = bnk48.rename(columns = {'first_name.en':'First_Name_Eng','first_name.th':'First_Name_Thai','last_name.en':'Last_Name_Eng'\\\n",
    "                          ,'last_name.th':'Last_Name_Thai','nickname.en':'Nickname_Eng','nickname.th':'Nickname_Thai','province':'Birth_Place'})"
   ]
  },
  {
   "cell_type": "code",
   "execution_count": 5,
   "metadata": {
    "colab": {
     "autoexec": {
      "startup": false,
      "wait_interval": 0
     },
     "base_uri": "https://localhost:8080/",
     "height": 256,
     "output_extras": [
      {
       "item_id": 1
      }
     ]
    },
    "colab_type": "code",
    "executionInfo": {
     "elapsed": 679,
     "status": "ok",
     "timestamp": 1519634056991,
     "user": {
      "displayName": "Thatchaphon Kaeosuriya",
      "photoUrl": "//lh6.googleusercontent.com/-OxPJNVPzEb4/AAAAAAAAAAI/AAAAAAAAAAs/t2d_82u8LrI/s50-c-k-no/photo.jpg",
      "userId": "102042915427851234990"
     },
     "user_tz": -420
    },
    "id": "qQjvAad_ogUZ",
    "outputId": "1ce07461-2f33-4d39-9e1f-e788f4c59fc6"
   },
   "outputs": [
    {
     "data": {
      "text/html": [
       "<div>\n",
       "<style scoped>\n",
       "    .dataframe tbody tr th:only-of-type {\n",
       "        vertical-align: middle;\n",
       "    }\n",
       "\n",
       "    .dataframe tbody tr th {\n",
       "        vertical-align: top;\n",
       "    }\n",
       "\n",
       "    .dataframe thead th {\n",
       "        text-align: right;\n",
       "    }\n",
       "</style>\n",
       "<table border=\"1\" class=\"dataframe\">\n",
       "  <thead>\n",
       "    <tr style=\"text-align: right;\">\n",
       "      <th></th>\n",
       "      <th>avatar_image</th>\n",
       "      <th>bio.dislike_foods.th</th>\n",
       "      <th>bio.dislike_school_subjects.th</th>\n",
       "      <th>bio.dislikes.th</th>\n",
       "      <th>bio.favourite_foods.th</th>\n",
       "      <th>bio.favourite_games.th</th>\n",
       "      <th>bio.favourite_school_subjects.th</th>\n",
       "      <th>bio.food_allergies.th</th>\n",
       "      <th>bio.hobbies.th</th>\n",
       "      <th>bio.likes.th</th>\n",
       "      <th>...</th>\n",
       "      <th>Last_Name_Thai</th>\n",
       "      <th>Nickname_Eng</th>\n",
       "      <th>Nickname_Thai</th>\n",
       "      <th>position</th>\n",
       "      <th>profile_image</th>\n",
       "      <th>profile_image_2x</th>\n",
       "      <th>Birth_Place</th>\n",
       "      <th>slug</th>\n",
       "      <th>status</th>\n",
       "      <th>team</th>\n",
       "    </tr>\n",
       "  </thead>\n",
       "  <tbody>\n",
       "    <tr>\n",
       "      <th>0</th>\n",
       "      <td>https://bnk48-www-html.s3-ap-southeast-1.amazo...</td>\n",
       "      <td>ถั่วในเค้ก</td>\n",
       "      <td>NaN</td>\n",
       "      <td>NaN</td>\n",
       "      <td>เต้าหู้ไข่/ เค้ก</td>\n",
       "      <td>JRPG/ MOBA</td>\n",
       "      <td>NaN</td>\n",
       "      <td>NaN</td>\n",
       "      <td>กิน, นอน, เล่นเกม, ฟังเพลง, Cosplay</td>\n",
       "      <td>-</td>\n",
       "      <td>...</td>\n",
       "      <td>อารีย์กุล</td>\n",
       "      <td>Cherprang</td>\n",
       "      <td>เฌอปราง</td>\n",
       "      <td>99.0</td>\n",
       "      <td>https://bnk48-www-html.s3-ap-southeast-1.amazo...</td>\n",
       "      <td>https://bnk48-www-html.s3-ap-southeast-1.amazo...</td>\n",
       "      <td>Bangkok</td>\n",
       "      <td>cherprang</td>\n",
       "      <td>1</td>\n",
       "      <td>2.0</td>\n",
       "    </tr>\n",
       "    <tr>\n",
       "      <th>1</th>\n",
       "      <td>https://bnk48-www-html.s3-ap-southeast-1.amazo...</td>\n",
       "      <td>NaN</td>\n",
       "      <td>แคลคูลัส</td>\n",
       "      <td>งู สัตว์เลื้อยคลาน ของมีกลิ่น ผี</td>\n",
       "      <td>ปลา กุ้ง ไข่ ปู</td>\n",
       "      <td>card game, board-game, FPS (OW, CSGO)</td>\n",
       "      <td>จิตวิทยา</td>\n",
       "      <td>NaN</td>\n",
       "      <td>ฟังเพลง, ดูหนัง, เที่ยวนอกบ้าน</td>\n",
       "      <td>SW(CloneTrooper), CD</td>\n",
       "      <td>...</td>\n",
       "      <td>ศรีเนียน</td>\n",
       "      <td>Can</td>\n",
       "      <td>แคนแคน</td>\n",
       "      <td>NaN</td>\n",
       "      <td>https://bnk48-www-html.s3-ap-southeast-1.amazo...</td>\n",
       "      <td>https://bnk48-www-html.s3-ap-southeast-1.amazo...</td>\n",
       "      <td>Bangkok</td>\n",
       "      <td>can</td>\n",
       "      <td>1</td>\n",
       "      <td>1.0</td>\n",
       "    </tr>\n",
       "  </tbody>\n",
       "</table>\n",
       "<p>2 rows × 30 columns</p>\n",
       "</div>"
      ],
      "text/plain": [
       "                                        avatar_image bio.dislike_foods.th  \\\n",
       "0  https://bnk48-www-html.s3-ap-southeast-1.amazo...           ถั่วในเค้ก   \n",
       "1  https://bnk48-www-html.s3-ap-southeast-1.amazo...                  NaN   \n",
       "\n",
       "  bio.dislike_school_subjects.th                    bio.dislikes.th  \\\n",
       "0                            NaN                                NaN   \n",
       "1                       แคลคูลัส  งู สัตว์เลื้อยคลาน ของมีกลิ่น ผี    \n",
       "\n",
       "  bio.favourite_foods.th                 bio.favourite_games.th  \\\n",
       "0       เต้าหู้ไข่/ เค้ก                             JRPG/ MOBA   \n",
       "1        ปลา กุ้ง ไข่ ปู  card game, board-game, FPS (OW, CSGO)   \n",
       "\n",
       "  bio.favourite_school_subjects.th bio.food_allergies.th  \\\n",
       "0                              NaN                   NaN   \n",
       "1                         จิตวิทยา                   NaN   \n",
       "\n",
       "                        bio.hobbies.th          bio.likes.th ...   \\\n",
       "0  กิน, นอน, เล่นเกม, ฟังเพลง, Cosplay                     - ...    \n",
       "1       ฟังเพลง, ดูหนัง, เที่ยวนอกบ้าน  SW(CloneTrooper), CD ...    \n",
       "\n",
       "   Last_Name_Thai  Nickname_Eng  Nickname_Thai  position  \\\n",
       "0       อารีย์กุล     Cherprang        เฌอปราง      99.0   \n",
       "1        ศรีเนียน           Can         แคนแคน       NaN   \n",
       "\n",
       "                                       profile_image  \\\n",
       "0  https://bnk48-www-html.s3-ap-southeast-1.amazo...   \n",
       "1  https://bnk48-www-html.s3-ap-southeast-1.amazo...   \n",
       "\n",
       "                                    profile_image_2x  Birth_Place       slug  \\\n",
       "0  https://bnk48-www-html.s3-ap-southeast-1.amazo...      Bangkok  cherprang   \n",
       "1  https://bnk48-www-html.s3-ap-southeast-1.amazo...      Bangkok        can   \n",
       "\n",
       "  status team  \n",
       "0      1  2.0  \n",
       "1      1  1.0  \n",
       "\n",
       "[2 rows x 30 columns]"
      ]
     },
     "execution_count": 5,
     "metadata": {},
     "output_type": "execute_result"
    }
   ],
   "source": [
    "bnk48_transform = bnk48_transform.loc[:, ~bnk48_transform.columns.str.contains('.en')]\n",
    "bnk48_transform.head(2)"
   ]
  },
  {
   "cell_type": "markdown",
   "metadata": {
    "colab_type": "text",
    "id": "lle3SOLtKHY1"
   },
   "source": [
    "Change column index"
   ]
  },
  {
   "cell_type": "code",
   "execution_count": 6,
   "metadata": {
    "colab": {
     "autoexec": {
      "startup": false,
      "wait_interval": 0
     },
     "base_uri": "https://localhost:8080/",
     "height": 1255,
     "output_extras": [
      {
       "item_id": 1
      }
     ]
    },
    "colab_type": "code",
    "executionInfo": {
     "elapsed": 1244,
     "status": "error",
     "timestamp": 1519634415456,
     "user": {
      "displayName": "Thatchaphon Kaeosuriya",
      "photoUrl": "//lh6.googleusercontent.com/-OxPJNVPzEb4/AAAAAAAAAAI/AAAAAAAAAAs/t2d_82u8LrI/s50-c-k-no/photo.jpg",
      "userId": "102042915427851234990"
     },
     "user_tz": -420
    },
    "id": "FDym1oWrKHY9",
    "outputId": "53c36ce9-fc76-4ee7-8a4b-3782bb14407a"
   },
   "outputs": [],
   "source": [
    "mycolumns = ['Nickname_Thai','First_Name_Thai','Last_Name_Thai',\\\n",
    "             'Nickname_Eng','First_Name_Eng','Last_Name_Eng']\n",
    "bnk48_transform = bnk48_transform.reindex(columns=(mycolumns + list([a for a in bnk48_transform.columns if a not in mycolumns]) ))"
   ]
  },
  {
   "cell_type": "code",
   "execution_count": 7,
   "metadata": {
    "colab": {
     "autoexec": {
      "startup": false,
      "wait_interval": 0
     },
     "base_uri": "https://localhost:8080/",
     "height": 502,
     "output_extras": [
      {
       "item_id": 1
      }
     ]
    },
    "colab_type": "code",
    "executionInfo": {
     "elapsed": 776,
     "status": "ok",
     "timestamp": 1519634098217,
     "user": {
      "displayName": "Thatchaphon Kaeosuriya",
      "photoUrl": "//lh6.googleusercontent.com/-OxPJNVPzEb4/AAAAAAAAAAI/AAAAAAAAAAs/t2d_82u8LrI/s50-c-k-no/photo.jpg",
      "userId": "102042915427851234990"
     },
     "user_tz": -420
    },
    "id": "XwfIGviZKHZT",
    "outputId": "0a9332d1-04e9-40c0-eaec-c83bf860106b"
   },
   "outputs": [
    {
     "data": {
      "text/html": [
       "<div>\n",
       "<style scoped>\n",
       "    .dataframe tbody tr th:only-of-type {\n",
       "        vertical-align: middle;\n",
       "    }\n",
       "\n",
       "    .dataframe tbody tr th {\n",
       "        vertical-align: top;\n",
       "    }\n",
       "\n",
       "    .dataframe thead th {\n",
       "        text-align: right;\n",
       "    }\n",
       "</style>\n",
       "<table border=\"1\" class=\"dataframe\">\n",
       "  <thead>\n",
       "    <tr style=\"text-align: right;\">\n",
       "      <th></th>\n",
       "      <th>Nickname_Thai</th>\n",
       "      <th>First_Name_Thai</th>\n",
       "      <th>Last_Name_Thai</th>\n",
       "      <th>Nickname_Eng</th>\n",
       "      <th>First_Name_Eng</th>\n",
       "      <th>Last_Name_Eng</th>\n",
       "      <th>avatar_image</th>\n",
       "      <th>bio.dislike_foods.th</th>\n",
       "      <th>bio.dislike_school_subjects.th</th>\n",
       "      <th>bio.dislikes.th</th>\n",
       "      <th>...</th>\n",
       "      <th>height</th>\n",
       "      <th>id</th>\n",
       "      <th>instagram</th>\n",
       "      <th>position</th>\n",
       "      <th>profile_image</th>\n",
       "      <th>profile_image_2x</th>\n",
       "      <th>Birth_Place</th>\n",
       "      <th>slug</th>\n",
       "      <th>status</th>\n",
       "      <th>team</th>\n",
       "    </tr>\n",
       "  </thead>\n",
       "  <tbody>\n",
       "    <tr>\n",
       "      <th>0</th>\n",
       "      <td>เฌอปราง</td>\n",
       "      <td>เฌอปราง</td>\n",
       "      <td>อารีย์กุล</td>\n",
       "      <td>Cherprang</td>\n",
       "      <td>Cherprang</td>\n",
       "      <td>Areekul</td>\n",
       "      <td>https://bnk48-www-html.s3-ap-southeast-1.amazo...</td>\n",
       "      <td>ถั่วในเค้ก</td>\n",
       "      <td>NaN</td>\n",
       "      <td>NaN</td>\n",
       "      <td>...</td>\n",
       "      <td>160</td>\n",
       "      <td>2</td>\n",
       "      <td>cherprang.bnk48official</td>\n",
       "      <td>99.0</td>\n",
       "      <td>https://bnk48-www-html.s3-ap-southeast-1.amazo...</td>\n",
       "      <td>https://bnk48-www-html.s3-ap-southeast-1.amazo...</td>\n",
       "      <td>Bangkok</td>\n",
       "      <td>cherprang</td>\n",
       "      <td>1</td>\n",
       "      <td>2.0</td>\n",
       "    </tr>\n",
       "    <tr>\n",
       "      <th>1</th>\n",
       "      <td>แคนแคน</td>\n",
       "      <td>นายิกา</td>\n",
       "      <td>ศรีเนียน</td>\n",
       "      <td>Can</td>\n",
       "      <td>Nayika</td>\n",
       "      <td>Srinian</td>\n",
       "      <td>https://bnk48-www-html.s3-ap-southeast-1.amazo...</td>\n",
       "      <td>NaN</td>\n",
       "      <td>แคลคูลัส</td>\n",
       "      <td>งู สัตว์เลื้อยคลาน ของมีกลิ่น ผี</td>\n",
       "      <td>...</td>\n",
       "      <td>160</td>\n",
       "      <td>1</td>\n",
       "      <td>can.bnk48official</td>\n",
       "      <td>NaN</td>\n",
       "      <td>https://bnk48-www-html.s3-ap-southeast-1.amazo...</td>\n",
       "      <td>https://bnk48-www-html.s3-ap-southeast-1.amazo...</td>\n",
       "      <td>Bangkok</td>\n",
       "      <td>can</td>\n",
       "      <td>1</td>\n",
       "      <td>1.0</td>\n",
       "    </tr>\n",
       "    <tr>\n",
       "      <th>2</th>\n",
       "      <td>อิซูรินะ</td>\n",
       "      <td>รินะ</td>\n",
       "      <td>อิซึตะ</td>\n",
       "      <td>Izurina</td>\n",
       "      <td>Rina</td>\n",
       "      <td>Izuta</td>\n",
       "      <td>https://bnk48-www-html.s3-ap-southeast-1.amazo...</td>\n",
       "      <td>NaN</td>\n",
       "      <td>NaN</td>\n",
       "      <td>NaN</td>\n",
       "      <td>...</td>\n",
       "      <td>158</td>\n",
       "      <td>4</td>\n",
       "      <td>rinaizuta.bnk48official</td>\n",
       "      <td>NaN</td>\n",
       "      <td>https://bnk48-www-html.s3-ap-southeast-1.amazo...</td>\n",
       "      <td>https://bnk48-www-html.s3-ap-southeast-1.amazo...</td>\n",
       "      <td>Saitama, Japan</td>\n",
       "      <td>izurina</td>\n",
       "      <td>1</td>\n",
       "      <td>NaN</td>\n",
       "    </tr>\n",
       "    <tr>\n",
       "      <th>3</th>\n",
       "      <td>จ๋า</td>\n",
       "      <td>ณปภัช</td>\n",
       "      <td>วรพฤทธานนท์</td>\n",
       "      <td>Jaa</td>\n",
       "      <td>Napaphat</td>\n",
       "      <td>Worraphuttanon</td>\n",
       "      <td>https://bnk48-www-html.s3-ap-southeast-1.amazo...</td>\n",
       "      <td>NaN</td>\n",
       "      <td>NaN</td>\n",
       "      <td>NaN</td>\n",
       "      <td>...</td>\n",
       "      <td>160</td>\n",
       "      <td>5</td>\n",
       "      <td>jaa.bnk48official</td>\n",
       "      <td>NaN</td>\n",
       "      <td>https://bnk48-www-html.s3-ap-southeast-1.amazo...</td>\n",
       "      <td>https://bnk48-www-html.s3-ap-southeast-1.amazo...</td>\n",
       "      <td>Bangkok</td>\n",
       "      <td>jaa</td>\n",
       "      <td>1</td>\n",
       "      <td>NaN</td>\n",
       "    </tr>\n",
       "    <tr>\n",
       "      <th>4</th>\n",
       "      <td>แจน</td>\n",
       "      <td>เจตสุภา</td>\n",
       "      <td>เครือแตง</td>\n",
       "      <td>Jan</td>\n",
       "      <td>Jetsupa</td>\n",
       "      <td>Kruetang</td>\n",
       "      <td>https://bnk48-www-html.s3-ap-southeast-1.amazo...</td>\n",
       "      <td>ผัก</td>\n",
       "      <td>เลข</td>\n",
       "      <td>หนอน แมลง ผี จิ้งจก ตุ๊กแก</td>\n",
       "      <td>...</td>\n",
       "      <td>162</td>\n",
       "      <td>6</td>\n",
       "      <td>jan.bnk48official</td>\n",
       "      <td>NaN</td>\n",
       "      <td>https://bnk48-www-html.s3-ap-southeast-1.amazo...</td>\n",
       "      <td>https://bnk48-www-html.s3-ap-southeast-1.amazo...</td>\n",
       "      <td>Sing Buri</td>\n",
       "      <td>jan</td>\n",
       "      <td>1</td>\n",
       "      <td>NaN</td>\n",
       "    </tr>\n",
       "  </tbody>\n",
       "</table>\n",
       "<p>5 rows × 30 columns</p>\n",
       "</div>"
      ],
      "text/plain": [
       "  Nickname_Thai First_Name_Thai Last_Name_Thai Nickname_Eng First_Name_Eng  \\\n",
       "0       เฌอปราง         เฌอปราง      อารีย์กุล    Cherprang      Cherprang   \n",
       "1        แคนแคน          นายิกา       ศรีเนียน          Can         Nayika   \n",
       "2      อิซูรินะ            รินะ         อิซึตะ      Izurina           Rina   \n",
       "3           จ๋า           ณปภัช    วรพฤทธานนท์          Jaa       Napaphat   \n",
       "4           แจน         เจตสุภา       เครือแตง          Jan        Jetsupa   \n",
       "\n",
       "    Last_Name_Eng                                       avatar_image  \\\n",
       "0         Areekul  https://bnk48-www-html.s3-ap-southeast-1.amazo...   \n",
       "1         Srinian  https://bnk48-www-html.s3-ap-southeast-1.amazo...   \n",
       "2           Izuta  https://bnk48-www-html.s3-ap-southeast-1.amazo...   \n",
       "3  Worraphuttanon  https://bnk48-www-html.s3-ap-southeast-1.amazo...   \n",
       "4        Kruetang  https://bnk48-www-html.s3-ap-southeast-1.amazo...   \n",
       "\n",
       "  bio.dislike_foods.th bio.dislike_school_subjects.th  \\\n",
       "0           ถั่วในเค้ก                            NaN   \n",
       "1                  NaN                       แคลคูลัส   \n",
       "2                  NaN                            NaN   \n",
       "3                  NaN                            NaN   \n",
       "4                  ผัก                            เลข   \n",
       "\n",
       "                     bio.dislikes.th  ...  height id                instagram  \\\n",
       "0                                NaN  ...     160  2  cherprang.bnk48official   \n",
       "1  งู สัตว์เลื้อยคลาน ของมีกลิ่น ผี   ...     160  1        can.bnk48official   \n",
       "2                                NaN  ...     158  4  rinaizuta.bnk48official   \n",
       "3                                NaN  ...     160  5        jaa.bnk48official   \n",
       "4         หนอน แมลง ผี จิ้งจก ตุ๊กแก  ...     162  6        jan.bnk48official   \n",
       "\n",
       "  position                                      profile_image  \\\n",
       "0     99.0  https://bnk48-www-html.s3-ap-southeast-1.amazo...   \n",
       "1      NaN  https://bnk48-www-html.s3-ap-southeast-1.amazo...   \n",
       "2      NaN  https://bnk48-www-html.s3-ap-southeast-1.amazo...   \n",
       "3      NaN  https://bnk48-www-html.s3-ap-southeast-1.amazo...   \n",
       "4      NaN  https://bnk48-www-html.s3-ap-southeast-1.amazo...   \n",
       "\n",
       "                                    profile_image_2x     Birth_Place  \\\n",
       "0  https://bnk48-www-html.s3-ap-southeast-1.amazo...         Bangkok   \n",
       "1  https://bnk48-www-html.s3-ap-southeast-1.amazo...         Bangkok   \n",
       "2  https://bnk48-www-html.s3-ap-southeast-1.amazo...  Saitama, Japan   \n",
       "3  https://bnk48-www-html.s3-ap-southeast-1.amazo...         Bangkok   \n",
       "4  https://bnk48-www-html.s3-ap-southeast-1.amazo...       Sing Buri   \n",
       "\n",
       "        slug  status  team  \n",
       "0  cherprang       1   2.0  \n",
       "1        can       1   1.0  \n",
       "2    izurina       1   NaN  \n",
       "3        jaa       1   NaN  \n",
       "4        jan       1   NaN  \n",
       "\n",
       "[5 rows x 30 columns]"
      ]
     },
     "execution_count": 7,
     "metadata": {},
     "output_type": "execute_result"
    }
   ],
   "source": [
    "bnk48_transform.head(5)"
   ]
  },
  {
   "cell_type": "markdown",
   "metadata": {
    "colab_type": "text",
    "id": "joLh8SDsKHZa"
   },
   "source": [
    "Delete some columns"
   ]
  },
  {
   "cell_type": "code",
   "execution_count": 8,
   "metadata": {
    "colab": {
     "autoexec": {
      "startup": false,
      "wait_interval": 0
     }
    },
    "colab_type": "code",
    "id": "klfRkmkTKHZb"
   },
   "outputs": [],
   "source": [
    "bnk48_transform = bnk48_transform.drop(['avatar_image','profile_image','profile_image_2x','changed','created',\\\n",
    "                                        'slug','team','position','status','team','id'],axis = 1)"
   ]
  },
  {
   "cell_type": "markdown",
   "metadata": {
    "colab_type": "text",
    "id": "_uvv8_AkKHZd"
   },
   "source": [
    "In Birthday column. We mus transform Epoch Unix Time to Date by function fromtimestamp but before we transform we must devide by 1000"
   ]
  },
  {
   "cell_type": "code",
   "execution_count": 9,
   "metadata": {
    "colab": {
     "autoexec": {
      "startup": false,
      "wait_interval": 0
     }
    },
    "colab_type": "code",
    "id": "zEerwp92KHZg"
   },
   "outputs": [],
   "source": [
    "import datetime\n",
    "bnk48_transform['birth_date'] = bnk48_transform['birth_date'].apply(lambda time: datetime.datetime.fromtimestamp(time/1000.0).strftime('%m-%d-%Y'))"
   ]
  },
  {
   "cell_type": "code",
   "execution_count": 10,
   "metadata": {
    "colab": {
     "autoexec": {
      "startup": false,
      "wait_interval": 0
     },
     "base_uri": "https://localhost:8080/",
     "height": 391,
     "output_extras": [
      {
       "item_id": 1
      }
     ]
    },
    "colab_type": "code",
    "executionInfo": {
     "elapsed": 756,
     "status": "ok",
     "timestamp": 1519634100621,
     "user": {
      "displayName": "Thatchaphon Kaeosuriya",
      "photoUrl": "//lh6.googleusercontent.com/-OxPJNVPzEb4/AAAAAAAAAAI/AAAAAAAAAAs/t2d_82u8LrI/s50-c-k-no/photo.jpg",
      "userId": "102042915427851234990"
     },
     "user_tz": -420
    },
    "id": "BKvxmT62KHZj",
    "outputId": "e0f57dbc-7133-4d71-8df8-5314064a2bd5"
   },
   "outputs": [
    {
     "data": {
      "text/plain": [
       "Nickname_Thai                       object\n",
       "First_Name_Thai                     object\n",
       "Last_Name_Thai                      object\n",
       "Nickname_Eng                        object\n",
       "First_Name_Eng                      object\n",
       "Last_Name_Eng                       object\n",
       "bio.dislike_foods.th                object\n",
       "bio.dislike_school_subjects.th      object\n",
       "bio.dislikes.th                     object\n",
       "bio.favourite_foods.th              object\n",
       "bio.favourite_games.th              object\n",
       "bio.favourite_school_subjects.th    object\n",
       "bio.food_allergies.th               object\n",
       "bio.hobbies.th                      object\n",
       "bio.likes.th                        object\n",
       "birth_date                          object\n",
       "blood_group                          int64\n",
       "height                               int64\n",
       "instagram                           object\n",
       "Birth_Place                         object\n",
       "dtype: object"
      ]
     },
     "execution_count": 10,
     "metadata": {},
     "output_type": "execute_result"
    }
   ],
   "source": [
    "bnk48_transform.dtypes"
   ]
  },
  {
   "cell_type": "markdown",
   "metadata": {
    "colab_type": "text",
    "id": "R1GSRFE_KHZp"
   },
   "source": [
    "Convert blood group from number to A,B,AB,O"
   ]
  },
  {
   "cell_type": "code",
   "execution_count": 11,
   "metadata": {
    "colab": {
     "autoexec": {
      "startup": false,
      "wait_interval": 0
     }
    },
    "colab_type": "code",
    "id": "a7hsjH9bKHZq"
   },
   "outputs": [],
   "source": [
    "def convertblood(blood_groups):\n",
    "    if blood_groups == 1:\n",
    "        group = \"A\"\n",
    "    elif blood_groups == 2:\n",
    "        group = \"B\"\n",
    "    elif blood_groups == 3:\n",
    "        group = \"AB\"\n",
    "    else:\n",
    "        group = \"O\"\n",
    "    \n",
    "    return group"
   ]
  },
  {
   "cell_type": "code",
   "execution_count": 12,
   "metadata": {
    "colab": {
     "autoexec": {
      "startup": false,
      "wait_interval": 0
     }
    },
    "colab_type": "code",
    "id": "zx11mimoKHZu"
   },
   "outputs": [],
   "source": [
    "bnk48_transform['blood_group'] = bnk48_transform['blood_group'].apply(convertblood)"
   ]
  },
  {
   "cell_type": "markdown",
   "metadata": {
    "colab_type": "text",
    "id": "9fgFKAmlKHZ1"
   },
   "source": [
    "แก้สถานที่เกิดเฌอปรางจากกรุงเทพเป็น อ.หาดใหญ่ จ.สงขลา(เฌอปรางเคยเล่าไว้ใน voov)"
   ]
  },
  {
   "cell_type": "code",
   "execution_count": 13,
   "metadata": {
    "colab": {
     "autoexec": {
      "startup": false,
      "wait_interval": 0
     }
    },
    "colab_type": "code",
    "id": "S-elb_DEQdVZ"
   },
   "outputs": [
    {
     "data": {
      "text/html": [
       "<div>\n",
       "<style scoped>\n",
       "    .dataframe tbody tr th:only-of-type {\n",
       "        vertical-align: middle;\n",
       "    }\n",
       "\n",
       "    .dataframe tbody tr th {\n",
       "        vertical-align: top;\n",
       "    }\n",
       "\n",
       "    .dataframe thead th {\n",
       "        text-align: right;\n",
       "    }\n",
       "</style>\n",
       "<table border=\"1\" class=\"dataframe\">\n",
       "  <thead>\n",
       "    <tr style=\"text-align: right;\">\n",
       "      <th></th>\n",
       "      <th>Nickname_Thai</th>\n",
       "      <th>First_Name_Thai</th>\n",
       "      <th>Last_Name_Thai</th>\n",
       "      <th>Nickname_Eng</th>\n",
       "      <th>First_Name_Eng</th>\n",
       "      <th>Last_Name_Eng</th>\n",
       "      <th>bio.dislike_foods.th</th>\n",
       "      <th>bio.dislike_school_subjects.th</th>\n",
       "      <th>bio.dislikes.th</th>\n",
       "      <th>bio.favourite_foods.th</th>\n",
       "      <th>bio.favourite_games.th</th>\n",
       "      <th>bio.favourite_school_subjects.th</th>\n",
       "      <th>bio.food_allergies.th</th>\n",
       "      <th>bio.hobbies.th</th>\n",
       "      <th>bio.likes.th</th>\n",
       "      <th>birth_date</th>\n",
       "      <th>blood_group</th>\n",
       "      <th>height</th>\n",
       "      <th>instagram</th>\n",
       "      <th>Birth_Place</th>\n",
       "    </tr>\n",
       "  </thead>\n",
       "  <tbody>\n",
       "    <tr>\n",
       "      <th>0</th>\n",
       "      <td>เฌอปราง</td>\n",
       "      <td>เฌอปราง</td>\n",
       "      <td>อารีย์กุล</td>\n",
       "      <td>Cherprang</td>\n",
       "      <td>Cherprang</td>\n",
       "      <td>Areekul</td>\n",
       "      <td>ถั่วในเค้ก</td>\n",
       "      <td>NaN</td>\n",
       "      <td>NaN</td>\n",
       "      <td>เต้าหู้ไข่/ เค้ก</td>\n",
       "      <td>JRPG/ MOBA</td>\n",
       "      <td>NaN</td>\n",
       "      <td>NaN</td>\n",
       "      <td>กิน, นอน, เล่นเกม, ฟังเพลง, Cosplay</td>\n",
       "      <td>-</td>\n",
       "      <td>05-02-1996</td>\n",
       "      <td>B</td>\n",
       "      <td>160</td>\n",
       "      <td>cherprang.bnk48official</td>\n",
       "      <td>Songkhla</td>\n",
       "    </tr>\n",
       "    <tr>\n",
       "      <th>1</th>\n",
       "      <td>แคนแคน</td>\n",
       "      <td>นายิกา</td>\n",
       "      <td>ศรีเนียน</td>\n",
       "      <td>Can</td>\n",
       "      <td>Nayika</td>\n",
       "      <td>Srinian</td>\n",
       "      <td>NaN</td>\n",
       "      <td>แคลคูลัส</td>\n",
       "      <td>งู สัตว์เลื้อยคลาน ของมีกลิ่น ผี</td>\n",
       "      <td>ปลา กุ้ง ไข่ ปู</td>\n",
       "      <td>card game, board-game, FPS (OW, CSGO)</td>\n",
       "      <td>จิตวิทยา</td>\n",
       "      <td>NaN</td>\n",
       "      <td>ฟังเพลง, ดูหนัง, เที่ยวนอกบ้าน</td>\n",
       "      <td>SW(CloneTrooper), CD</td>\n",
       "      <td>11-10-1997</td>\n",
       "      <td>B</td>\n",
       "      <td>160</td>\n",
       "      <td>can.bnk48official</td>\n",
       "      <td>Bangkok</td>\n",
       "    </tr>\n",
       "  </tbody>\n",
       "</table>\n",
       "</div>"
      ],
      "text/plain": [
       "  Nickname_Thai First_Name_Thai Last_Name_Thai Nickname_Eng First_Name_Eng  \\\n",
       "0       เฌอปราง         เฌอปราง      อารีย์กุล    Cherprang      Cherprang   \n",
       "1        แคนแคน          นายิกา       ศรีเนียน          Can         Nayika   \n",
       "\n",
       "  Last_Name_Eng bio.dislike_foods.th bio.dislike_school_subjects.th  \\\n",
       "0       Areekul           ถั่วในเค้ก                            NaN   \n",
       "1       Srinian                  NaN                       แคลคูลัส   \n",
       "\n",
       "                     bio.dislikes.th bio.favourite_foods.th  \\\n",
       "0                                NaN       เต้าหู้ไข่/ เค้ก   \n",
       "1  งู สัตว์เลื้อยคลาน ของมีกลิ่น ผี         ปลา กุ้ง ไข่ ปู   \n",
       "\n",
       "                  bio.favourite_games.th bio.favourite_school_subjects.th  \\\n",
       "0                             JRPG/ MOBA                              NaN   \n",
       "1  card game, board-game, FPS (OW, CSGO)                         จิตวิทยา   \n",
       "\n",
       "  bio.food_allergies.th                       bio.hobbies.th  \\\n",
       "0                   NaN  กิน, นอน, เล่นเกม, ฟังเพลง, Cosplay   \n",
       "1                   NaN       ฟังเพลง, ดูหนัง, เที่ยวนอกบ้าน   \n",
       "\n",
       "           bio.likes.th  birth_date blood_group  height  \\\n",
       "0                     -  05-02-1996           B     160   \n",
       "1  SW(CloneTrooper), CD  11-10-1997           B     160   \n",
       "\n",
       "                 instagram Birth_Place  \n",
       "0  cherprang.bnk48official    Songkhla  \n",
       "1        can.bnk48official     Bangkok  "
      ]
     },
     "execution_count": 13,
     "metadata": {},
     "output_type": "execute_result"
    }
   ],
   "source": [
    "bnk48_transform.at[0, 'Birth_Place'] = \"Songkhla\"\n",
    "bnk48_transform.head(2)"
   ]
  },
  {
   "cell_type": "markdown",
   "metadata": {
    "colab_type": "text",
    "id": "dBEFGW19K2FS"
   },
   "source": [
    "## Visualization"
   ]
  },
  {
   "cell_type": "markdown",
   "metadata": {
    "colab_type": "text",
    "id": "8gJlW-y2KHZ8"
   },
   "source": [
    "Plot some column\n",
    "1. Blood type\n",
    "2. Distribution of Hight\n",
    "3. Distribution of Age"
   ]
  },
  {
   "cell_type": "code",
   "execution_count": 14,
   "metadata": {
    "colab": {
     "autoexec": {
      "startup": false,
      "wait_interval": 0
     },
     "output_extras": [
      {}
     ]
    },
    "colab_type": "code",
    "id": "vGLpbtftKHZ9",
    "outputId": "24f1594d-115b-427e-e116-e160b4b7589b"
   },
   "outputs": [
    {
     "data": {
      "image/png": "[encoded data removed]",
      "text/plain": [
       "<matplotlib.figure.Figure at 0x113781400>"
      ]
     },
     "metadata": {},
     "output_type": "display_data"
    }
   ],
   "source": [
    "%matplotlib inline\n",
    "import seaborn as sns\n",
    "sns.set(style=\"darkgrid\")\n",
    "ax = sns.countplot(x=\"blood_group\", data=bnk48_transform)"
   ]
  },
  {
   "cell_type": "code",
   "execution_count": 15,
   "metadata": {
    "colab": {
     "autoexec": {
      "startup": false,
      "wait_interval": 0
     },
     "output_extras": [
      {},
      {}
     ]
    },
    "colab_type": "code",
    "id": "MGxnx98vKHaM",
    "outputId": "29d55f8d-3584-41bf-f669-e1f009488bcb"
   },
   "outputs": [
    {
     "data": {
      "text/plain": [
       "<matplotlib.axes._subplots.AxesSubplot at 0x115581358>"
      ]
     },
     "execution_count": 15,
     "metadata": {},
     "output_type": "execute_result"
    },
    {
     "data": {
      "image/png": "[encoded data removed]",
      "text/plain": [
       "<matplotlib.figure.Figure at 0x115460160>"
      ]
     },
     "metadata": {},
     "output_type": "display_data"
    }
   ],
   "source": [
    "sns.distplot(bnk48_transform[\"height\"])"
   ]
  },
  {
   "cell_type": "code",
   "execution_count": 16,
   "metadata": {
    "colab": {
     "autoexec": {
      "startup": false,
      "wait_interval": 0
     },
     "output_extras": [
      {},
      {}
     ]
    },
    "colab_type": "code",
    "id": "Zgj1oYhxKHaR",
    "outputId": "16f80163-39e3-48b0-8dc2-63dfb2b0b457"
   },
   "outputs": [
    {
     "data": {
      "text/plain": [
       "<matplotlib.axes._subplots.AxesSubplot at 0x117ab6b38>"
      ]
     },
     "execution_count": 16,
     "metadata": {},
     "output_type": "execute_result"
    },
    {
     "data": {
      "image/png": "[encoded data removed]",
      "text/plain": [
       "<matplotlib.figure.Figure at 0x112d4fc18>"
      ]
     },
     "metadata": {},
     "output_type": "display_data"
    }
   ],
   "source": [
    "from math import floor\n",
    "myday = pd.to_datetime('02-26-2018')\n",
    "bnk48_transform[\"Age\"] = bnk48_transform[\"birth_date\"].apply(lambda x: floor(len(pd.date_range(start = x,end = myday, freq = \"D\"))/365))\n",
    "sns.distplot(bnk48_transform[\"Age\"])"
   ]
  },
  {
   "cell_type": "code",
   "execution_count": null,
   "metadata": {},
   "outputs": [],
   "source": []
  }
 ],
 "metadata": {
  "colab": {
   "collapsed_sections": [],
   "default_view": {},
   "name": "BNK_API.ipynb",
   "provenance": [],
   "version": "0.3.2",
   "views": {}
  },
  "kernelspec": {
   "display_name": "Python 3",
   "language": "python",
   "name": "python3"
  },
  "language_info": {
   "codemirror_mode": {
    "name": "ipython",
    "version": 3
   },
   "file_extension": ".py",
   "mimetype": "text/x-python",
   "name": "python",
   "nbconvert_exporter": "python",
   "pygments_lexer": "ipython3",
   "version": "3.6.4"
  }
 },
 "nbformat": 4,
 "nbformat_minor": 2
}
